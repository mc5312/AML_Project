{
 "cells": [
  {
   "cell_type": "code",
   "execution_count": 1,
   "id": "97906336",
   "metadata": {},
   "outputs": [],
   "source": [
    "import pandas as pd\n",
    "import matplotlib.pyplot as plt\n",
    "import numpy as np\n",
    "from scipy import stats\n",
    "import re"
   ]
  },
  {
   "cell_type": "code",
   "execution_count": null,
   "id": "332ef2f5",
   "metadata": {},
   "outputs": [],
   "source": [
    "import nltk\n",
    "# nltk.download('punkt')\n",
    "# nltk.download('wordnet')\n",
    "# nltk.download('omw-1.4')\n",
    "from nltk.tokenize import sent_tokenize, word_tokenize\n",
    "from nltk.stem import PorterStemmer, WordNetLemmatizer"
   ]
  },
  {
   "cell_type": "code",
   "execution_count": null,
   "id": "717e2790",
   "metadata": {},
   "outputs": [],
   "source": [
    "from sklearn.model_selection import train_test_split\n",
    "from sklearn.feature_extraction.text import CountVectorizer, TfidfVectorizer, HashingVectorizer\n",
    "from sklearn.linear_model import LogisticRegressionCV"
   ]
  },
  {
   "cell_type": "markdown",
   "id": "baa2d640",
   "metadata": {},
   "source": [
    "# Load Data"
   ]
  },
  {
   "cell_type": "code",
   "execution_count": null,
   "id": "a259aed3",
   "metadata": {},
   "outputs": [],
   "source": [
    "true_df = pd.read_csv('./Dataset/True.csv')\n",
    "fake_df = pd.read_csv('./Dataset/Fake.csv')"
   ]
  },
  {
   "cell_type": "code",
   "execution_count": null,
   "id": "ac6004cc",
   "metadata": {},
   "outputs": [],
   "source": [
    "# Create dataset\n",
    "true_df['label'] = 'True'\n",
    "fake_df['label'] = 'Fake'\n",
    "data_df = pd.concat([true_df, fake_df], ignore_index=True)"
   ]
  },
  {
   "cell_type": "markdown",
   "id": "ca4b913e",
   "metadata": {},
   "source": [
    "# Clean Data"
   ]
  },
  {
   "cell_type": "code",
   "execution_count": null,
   "id": "b0a2f934",
   "metadata": {},
   "outputs": [],
   "source": [
    "# Remove duplicated rows\n",
    "data_df = data_df[~data_df.duplicated()]\n",
    "\n",
    "# Remove rows with empty / short text\n",
    "data_df = data_df[data_df['text'].str.len() > 10]\n",
    "\n",
    "# Convert date string to date\n",
    "data_df['date'] = pd.to_datetime(data_df['date'], errors='coerce')\n",
    "\n",
    "# Remove rows with non-date values in 'date' column\n",
    "data_df.dropna(inplace=True)\n",
    "data_df.reset_index(drop=True, inplace=True)"
   ]
  },
  {
   "cell_type": "markdown",
   "id": "0eecf752",
   "metadata": {},
   "source": [
    "# Preprocess Data"
   ]
  },
  {
   "cell_type": "code",
   "execution_count": null,
   "id": "012fde17",
   "metadata": {},
   "outputs": [],
   "source": [
    "porter = PorterStemmer()\n",
    "lemmatizer = WordNetLemmatizer()"
   ]
  },
  {
   "cell_type": "code",
   "execution_count": null,
   "id": "914fad2d",
   "metadata": {},
   "outputs": [],
   "source": [
    "def preprocess_txt(txt, stem=None):\n",
    "    txt = txt.lower()\n",
    "    txt = re.sub('http[s]?://\\S+', '', txt)\n",
    "    txt = re.sub(r'[^a-z0-9_\\s]+', '', txt)\n",
    "    if stem == 'porter':\n",
    "        token_words = word_tokenize(txt)\n",
    "        stem_words = [porter.stem(word) for word in token_words]\n",
    "        return ' '.join(stem_words)\n",
    "    elif stem == 'lemma':\n",
    "        token_words = word_tokenize(txt)\n",
    "        stem_words = [lemmatizer.lemmatize(word) for word in token_words]\n",
    "        return ' '.join(stem_words)\n",
    "    return txt"
   ]
  },
  {
   "cell_type": "code",
   "execution_count": null,
   "id": "9ad74f89",
   "metadata": {},
   "outputs": [],
   "source": [
    "for field in ['title', 'text']:\n",
    "    data_df[field] = data_df[field].apply(lambda txt: preprocess_txt(txt, stem='stem'))\n",
    "\n",
    "# Again, Remove rows with empty / short text\n",
    "data_df = data_df[data_df['text'].str.len() > 10]"
   ]
  },
  {
   "cell_type": "code",
   "execution_count": null,
   "id": "dde31a57",
   "metadata": {},
   "outputs": [],
   "source": [
    "data_df.label.value_counts()"
   ]
  },
  {
   "cell_type": "markdown",
   "id": "033cb468",
   "metadata": {},
   "source": [
    "# Prepare Data set"
   ]
  },
  {
   "cell_type": "code",
   "execution_count": null,
   "id": "4b94c0a3",
   "metadata": {},
   "outputs": [],
   "source": [
    "def vectorize(train_data, test_data, vectorizer='count', ngram_range=(1, 1), min_df=1):\n",
    "    if vectorizer == 'count':\n",
    "        vector = CountVectorizer(stop_words='english', ngram_range=ngram_range, min_df=min_df)\n",
    "    elif vectorizer == 'tfidf':\n",
    "        vector = TfidfVectorizer(stop_words='english', ngram_range=ngram_range, min_df=min_df)\n",
    "\n",
    "    train_data = vector.fit_transform(train_data)\n",
    "    test_data = vector.transform(test_data)\n",
    "    return train_data, test_data"
   ]
  },
  {
   "cell_type": "code",
   "execution_count": null,
   "id": "51997ba3",
   "metadata": {},
   "outputs": [],
   "source": [
    "X, y = data_df[['subject', 'title', 'text']].apply(' '.join, axis=1), data_df['label']\n",
    "X_train, X_test, y_train, y_test = train_test_split(X, y, test_size=0.2)\n",
    "\n",
    "# vector = CountVectorizer(stop_words='english', ngram_range=(1, 1), min_df=4)\n",
    "# vector = TfidfVectorizer(stop_words='english', ngram_range=(1, 1), min_df=4)\n",
    "vector = HashingVectorizer(stop_words='english', ngram_range=(1, 1))\n",
    "\n",
    "X_train = vector.fit_transform(X_train)\n",
    "X_test = vector.transform(X_test)\n"
   ]
  },
  {
   "cell_type": "markdown",
   "id": "ed6acaec",
   "metadata": {},
   "source": [
    "# Logistic Regression"
   ]
  },
  {
   "cell_type": "code",
   "execution_count": null,
   "id": "b77461a1",
   "metadata": {},
   "outputs": [],
   "source": [
    "lr = LogisticRegressionCV().fit(X_train, y_train)"
   ]
  },
  {
   "cell_type": "code",
   "execution_count": null,
   "id": "80cfe448",
   "metadata": {},
   "outputs": [],
   "source": [
    "lr.score(X_test, y_test)"
   ]
  },
  {
   "cell_type": "code",
   "execution_count": null,
   "id": "2eebbcd8",
   "metadata": {},
   "outputs": [],
   "source": []
  },
  {
   "cell_type": "code",
   "execution_count": null,
   "id": "f0c0cd7e",
   "metadata": {},
   "outputs": [],
   "source": []
  }
 ],
 "metadata": {
  "kernelspec": {
   "display_name": "Python 3 (ipykernel)",
   "language": "python",
   "name": "python3"
  },
  "language_info": {
   "codemirror_mode": {
    "name": "ipython",
    "version": 3
   },
   "file_extension": ".py",
   "mimetype": "text/x-python",
   "name": "python",
   "nbconvert_exporter": "python",
   "pygments_lexer": "ipython3",
   "version": "3.9.12"
  }
 },
 "nbformat": 4,
 "nbformat_minor": 5
}
