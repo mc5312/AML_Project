{
 "cells": [
  {
   "cell_type": "code",
   "execution_count": 1,
   "id": "97906336",
   "metadata": {},
   "outputs": [],
   "source": [
    "import pandas as pd\n",
    "import matplotlib.pyplot as plt\n",
    "import numpy as np\n",
    "from scipy import stats\n",
    "import re"
   ]
  },
  {
   "cell_type": "code",
   "execution_count": 2,
   "id": "332ef2f5",
   "metadata": {},
   "outputs": [],
   "source": [
    "import nltk\n",
    "# nltk.download('punkt')\n",
    "# nltk.download('wordnet')\n",
    "# nltk.download('omw-1.4')\n",
    "from nltk.tokenize import sent_tokenize, word_tokenize\n",
    "from nltk.stem import PorterStemmer, WordNetLemmatizer"
   ]
  },
  {
   "cell_type": "code",
   "execution_count": 3,
   "id": "717e2790",
   "metadata": {},
   "outputs": [],
   "source": [
    "from sklearn.model_selection import train_test_split\n",
    "from sklearn.feature_extraction.text import CountVectorizer, TfidfVectorizer, HashingVectorizer\n",
    "from sklearn.linear_model import LogisticRegressionCV"
   ]
  },
  {
   "cell_type": "markdown",
   "id": "baa2d640",
   "metadata": {},
   "source": [
    "# Load Data"
   ]
  },
  {
   "cell_type": "code",
   "execution_count": 5,
   "id": "a259aed3",
   "metadata": {},
   "outputs": [],
   "source": [
    "true_df = pd.read_csv('./Dataset/True.csv')\n",
    "fake_df = pd.read_csv('./Dataset/Fake.csv')"
   ]
  },
  {
   "cell_type": "code",
   "execution_count": 6,
   "id": "ac6004cc",
   "metadata": {},
   "outputs": [],
   "source": [
    "# Create dataset\n",
    "true_df['label'] = 'True'\n",
    "fake_df['label'] = 'Fake'\n",
    "data_df = pd.concat([true_df, fake_df], ignore_index=True)"
   ]
  },
  {
   "cell_type": "markdown",
   "id": "ca4b913e",
   "metadata": {},
   "source": [
    "# Clean Data"
   ]
  },
  {
   "cell_type": "code",
   "execution_count": 7,
   "id": "b0a2f934",
   "metadata": {},
   "outputs": [],
   "source": [
    "# Remove duplicated rows\n",
    "data_df = data_df[~data_df.duplicated()]\n",
    "\n",
    "# Remove rows with empty / short text\n",
    "data_df = data_df[data_df['text'].str.len() > 10]\n",
    "\n",
    "# Convert date string to date\n",
    "data_df['date'] = pd.to_datetime(data_df['date'], errors='coerce')\n",
    "\n",
    "# Remove rows with non-date values in 'date' column\n",
    "data_df.dropna(inplace=True)\n",
    "data_df.reset_index(drop=True, inplace=True)"
   ]
  },
  {
   "cell_type": "markdown",
   "id": "0eecf752",
   "metadata": {},
   "source": [
    "# Preprocess Data"
   ]
  },
  {
   "cell_type": "code",
   "execution_count": 8,
   "id": "012fde17",
   "metadata": {},
   "outputs": [],
   "source": [
    "porter = PorterStemmer()\n",
    "lemmatizer = WordNetLemmatizer()"
   ]
  },
  {
   "cell_type": "code",
   "execution_count": 9,
   "id": "914fad2d",
   "metadata": {},
   "outputs": [],
   "source": [
    "def preprocess_txt(txt, stem=None):\n",
    "    txt = txt.lower()\n",
    "    txt = re.sub('http[s]?://\\S+', '', txt)\n",
    "    txt = re.sub(r'[^a-z0-9_\\s]+', '', txt)\n",
    "    if stem == 'porter':\n",
    "        token_words = word_tokenize(txt)\n",
    "        stem_words = [porter.stem(word) for word in token_words]\n",
    "        return ' '.join(stem_words)\n",
    "    elif stem == 'lemma':\n",
    "        token_words = word_tokenize(txt)\n",
    "        stem_words = [lemmatizer.lemmatize(word) for word in token_words]\n",
    "        return ' '.join(stem_words)\n",
    "    return txt"
   ]
  },
  {
   "cell_type": "code",
   "execution_count": 10,
   "id": "9ad74f89",
   "metadata": {},
   "outputs": [],
   "source": [
    "for field in ['title', 'text']:\n",
    "    data_df[field] = data_df[field].apply(lambda txt: preprocess_txt(txt, stem='stem'))\n",
    "\n",
    "# Again, Remove rows with empty / short text\n",
    "data_df = data_df[data_df['text'].str.len() > 10]"
   ]
  },
  {
   "cell_type": "code",
   "execution_count": 11,
   "id": "dde31a57",
   "metadata": {},
   "outputs": [
    {
     "data": {
      "text/plain": [
       "Fake    22738\n",
       "True    21210\n",
       "Name: label, dtype: int64"
      ]
     },
     "execution_count": 11,
     "metadata": {},
     "output_type": "execute_result"
    }
   ],
   "source": [
    "data_df.label.value_counts()"
   ]
  },
  {
   "cell_type": "markdown",
   "id": "033cb468",
   "metadata": {},
   "source": [
    "# Prepare Data set"
   ]
  },
  {
   "cell_type": "code",
   "execution_count": 13,
   "id": "4b94c0a3",
   "metadata": {},
   "outputs": [],
   "source": [
    "def vectorize(train_data, test_data, vectorizer='count', ngram_range=(1, 1), min_df=1):\n",
    "    if vectorizer == 'count':\n",
    "        vector = CountVectorizer(stop_words='english', ngram_range=ngram_range, min_df=min_df)\n",
    "    elif vectorizer == 'tfidf':\n",
    "        vector = TfidfVectorizer(stop_words='english', ngram_range=ngram_range, min_df=min_df)\n",
    "\n",
    "    train_data = vector.fit_transform(train_data)\n",
    "    test_data = vector.transform(test_data)\n",
    "    return train_data, test_data"
   ]
  },
  {
   "cell_type": "code",
   "execution_count": 14,
   "id": "51997ba3",
   "metadata": {},
   "outputs": [],
   "source": [
    "X, y = data_df[['subject', 'title', 'text']].apply(' '.join, axis=1), data_df['label']\n",
    "X_train, X_test, y_train, y_test = train_test_split(X, y, test_size=0.2)\n",
    "\n",
    "# vector = CountVectorizer(stop_words='english', ngram_range=(1, 1), min_df=4)\n",
    "# vector = TfidfVectorizer(stop_words='english', ngram_range=(1, 1), min_df=4)\n",
    "vector = HashingVectorizer(stop_words='english', ngram_range=(1, 1))\n",
    "\n",
    "X_train = vector.fit_transform(X_train)\n",
    "X_test = vector.transform(X_test)\n"
   ]
  },
  {
   "cell_type": "markdown",
   "id": "ed6acaec",
   "metadata": {},
   "source": [
    "# Logistic Regression"
   ]
  },
  {
   "cell_type": "code",
   "execution_count": null,
   "id": "b77461a1",
   "metadata": {},
   "outputs": [],
   "source": [
    "lr = LogisticRegressionCV().fit(X_train, y_train)"
   ]
  },
  {
   "cell_type": "code",
   "execution_count": null,
   "id": "80cfe448",
   "metadata": {},
   "outputs": [],
   "source": [
    "lr.score(X_test, y_test)"
   ]
  },
  {
   "cell_type": "code",
   "execution_count": null,
   "id": "2eebbcd8",
   "metadata": {},
   "outputs": [],
   "source": []
  },
  {
   "cell_type": "code",
   "execution_count": null,
   "id": "f0c0cd7e",
   "metadata": {},
   "outputs": [],
   "source": []
  },
  {
   "cell_type": "markdown",
   "id": "66d0e8ce-e502-4bd1-b271-f772e251ee18",
   "metadata": {},
   "source": [
    "## BERT Model"
   ]
  },
  {
   "cell_type": "code",
   "execution_count": 17,
   "id": "4ab1752e-29e1-47b0-9a91-3397ec0ba3b2",
   "metadata": {
    "tags": []
   },
   "outputs": [],
   "source": [
    "#!pip install tensorflow_hub --user\n",
    "#!pip install tensorflow-text"
   ]
  },
  {
   "cell_type": "code",
   "execution_count": 44,
   "id": "f95a3476-b4b9-49c3-85cb-a9de6d33c783",
   "metadata": {
    "tags": []
   },
   "outputs": [],
   "source": [
    "import tensorflow as tf\n",
    "import tensorflow_hub as hub\n",
    "import tensorflow_text as text"
   ]
  },
  {
   "cell_type": "code",
   "execution_count": 45,
   "id": "687ca479-ac93-478f-bbca-abdefdf8b32c",
   "metadata": {},
   "outputs": [],
   "source": [
    "X, y = data_df[['subject', 'title', 'text']].apply(' '.join, axis=1), data_df['label']\n",
    "y, categories = pd.factorize(y)"
   ]
  },
  {
   "cell_type": "code",
   "execution_count": 46,
   "id": "4494d7bc-c16d-466e-9953-55afa78a4ee9",
   "metadata": {},
   "outputs": [
    {
     "data": {
      "text/plain": [
       "Index(['True', 'Fake'], dtype='object')"
      ]
     },
     "execution_count": 46,
     "metadata": {},
     "output_type": "execute_result"
    }
   ],
   "source": [
    "categories"
   ]
  },
  {
   "cell_type": "code",
   "execution_count": 47,
   "id": "6eecb1a6-6d67-47cf-8a97-f654cfbfc811",
   "metadata": {},
   "outputs": [],
   "source": [
    "X_train, X_test, y_train, y_test = train_test_split(X, y, test_size=0.3)"
   ]
  },
  {
   "cell_type": "code",
   "execution_count": 48,
   "id": "cc7fed73-d3a0-4d4f-aadd-d48e9466375f",
   "metadata": {
    "tags": []
   },
   "outputs": [],
   "source": [
    "bert_preprocess = hub.KerasLayer(\"https://tfhub.dev/tensorflow/bert_en_uncased_preprocess/3\")\n",
    "bert_encoder = hub.KerasLayer(\"https://tfhub.dev/tensorflow/bert_en_uncased_L-12_H-768_A-12/4\")"
   ]
  },
  {
   "cell_type": "markdown",
   "id": "7e3d5419-5d7d-45ca-ac37-212934714fad",
   "metadata": {},
   "source": [
    "### Building the Neural Network"
   ]
  },
  {
   "cell_type": "code",
   "execution_count": 49,
   "id": "3ccfccf3-8525-41fb-b7bc-1e2b7f8307d2",
   "metadata": {},
   "outputs": [],
   "source": [
    "text_input = tf.keras.layers.Input(shape=(), dtype=tf.string, name='text')\n",
    "preprocessed_text = bert_preprocess(text_input)\n",
    "outputs = bert_encoder(preprocessed_text)"
   ]
  },
  {
   "cell_type": "code",
   "execution_count": 50,
   "id": "0751f632-1883-401e-bd18-2b6f8b6b084e",
   "metadata": {},
   "outputs": [],
   "source": [
    "out = tf.keras.layers.Dropout(0.1, name=\"dropout\")(outputs['pooled_output'])\n",
    "out = tf.keras.layers.Dense(1, activation='sigmoid', name=\"output\")(out)"
   ]
  },
  {
   "cell_type": "code",
   "execution_count": 51,
   "id": "c8315630-8152-436e-b346-30fe93e1f01f",
   "metadata": {},
   "outputs": [],
   "source": [
    "model = tf.keras.Model(inputs=[text_input], outputs = [out])"
   ]
  },
  {
   "cell_type": "code",
   "execution_count": 52,
   "id": "afc1fde6-90a4-4ecd-b3e2-6d6916da1cf6",
   "metadata": {},
   "outputs": [
    {
     "name": "stdout",
     "output_type": "stream",
     "text": [
      "Model: \"model_1\"\n",
      "__________________________________________________________________________________________________\n",
      " Layer (type)                   Output Shape         Param #     Connected to                     \n",
      "==================================================================================================\n",
      " text (InputLayer)              [(None,)]            0           []                               \n",
      "                                                                                                  \n",
      " keras_layer_4 (KerasLayer)     {'input_type_ids':   0           ['text[0][0]']                   \n",
      "                                (None, 128),                                                      \n",
      "                                 'input_mask': (Non                                               \n",
      "                                e, 128),                                                          \n",
      "                                 'input_word_ids':                                                \n",
      "                                (None, 128)}                                                      \n",
      "                                                                                                  \n",
      " keras_layer_5 (KerasLayer)     {'sequence_output':  109482241   ['keras_layer_4[0][0]',          \n",
      "                                 (None, 128, 768),                'keras_layer_4[0][1]',          \n",
      "                                 'pooled_output': (               'keras_layer_4[0][2]']          \n",
      "                                None, 768),                                                       \n",
      "                                 'encoder_outputs':                                               \n",
      "                                 [(None, 128, 768),                                               \n",
      "                                 (None, 128, 768),                                                \n",
      "                                 (None, 128, 768),                                                \n",
      "                                 (None, 128, 768),                                                \n",
      "                                 (None, 128, 768),                                                \n",
      "                                 (None, 128, 768),                                                \n",
      "                                 (None, 128, 768),                                                \n",
      "                                 (None, 128, 768),                                                \n",
      "                                 (None, 128, 768),                                                \n",
      "                                 (None, 128, 768),                                                \n",
      "                                 (None, 128, 768),                                                \n",
      "                                 (None, 128, 768)],                                               \n",
      "                                 'default': (None,                                                \n",
      "                                768)}                                                             \n",
      "                                                                                                  \n",
      " dropout (Dropout)              (None, 768)          0           ['keras_layer_5[0][13]']         \n",
      "                                                                                                  \n",
      " output (Dense)                 (None, 1)            769         ['dropout[0][0]']                \n",
      "                                                                                                  \n",
      "==================================================================================================\n",
      "Total params: 109,483,010\n",
      "Trainable params: 769\n",
      "Non-trainable params: 109,482,241\n",
      "__________________________________________________________________________________________________\n"
     ]
    }
   ],
   "source": [
    "model.summary()"
   ]
  },
  {
   "cell_type": "code",
   "execution_count": 53,
   "id": "b419c4a5-f099-4b81-a69c-1fe01368193c",
   "metadata": {},
   "outputs": [],
   "source": [
    "METRICS = [\n",
    "      tf.keras.metrics.BinaryAccuracy(name='accuracy'),\n",
    "      tf.keras.metrics.Precision(name='precision'),\n",
    "      tf.keras.metrics.Recall(name='recall')\n",
    "]\n",
    "\n",
    "model.compile(optimizer='adam',\n",
    " loss='binary_crossentropy',\n",
    " metrics=METRICS)"
   ]
  },
  {
   "cell_type": "code",
   "execution_count": 54,
   "id": "ae2a3b38-0fe7-4f1e-b74a-6a7c7aaf12dc",
   "metadata": {},
   "outputs": [
    {
     "name": "stdout",
     "output_type": "stream",
     "text": [
      "Epoch 1/20\n",
      "962/962 [==============================] - 561s 564ms/step - loss: 0.3805 - accuracy: 0.8515 - precision: 0.8524 - recall: 0.8622\n",
      "Epoch 2/20\n",
      "962/962 [==============================] - 564s 586ms/step - loss: 0.2470 - accuracy: 0.9076 - precision: 0.9079 - recall: 0.9141\n",
      "Epoch 3/20\n",
      "962/962 [==============================] - 564s 587ms/step - loss: 0.2218 - accuracy: 0.9161 - precision: 0.9160 - recall: 0.9224\n",
      "Epoch 4/20\n",
      "962/962 [==============================] - 560s 582ms/step - loss: 0.2092 - accuracy: 0.9188 - precision: 0.9196 - recall: 0.9238\n",
      "Epoch 5/20\n",
      "962/962 [==============================] - 562s 584ms/step - loss: 0.2013 - accuracy: 0.9217 - precision: 0.9215 - recall: 0.9276\n",
      "Epoch 6/20\n",
      "962/962 [==============================] - 558s 580ms/step - loss: 0.1953 - accuracy: 0.9238 - precision: 0.9238 - recall: 0.9292\n",
      "Epoch 7/20\n",
      "962/962 [==============================] - 556s 578ms/step - loss: 0.1906 - accuracy: 0.9256 - precision: 0.9256 - recall: 0.9309\n",
      "Epoch 8/20\n",
      "962/962 [==============================] - 562s 584ms/step - loss: 0.1872 - accuracy: 0.9262 - precision: 0.9270 - recall: 0.9305\n",
      "Epoch 9/20\n",
      "962/962 [==============================] - 559s 581ms/step - loss: 0.1825 - accuracy: 0.9286 - precision: 0.9296 - recall: 0.9325\n",
      "Epoch 10/20\n",
      "962/962 [==============================] - 560s 583ms/step - loss: 0.1820 - accuracy: 0.9282 - precision: 0.9289 - recall: 0.9324\n",
      "Epoch 11/20\n",
      "962/962 [==============================] - 555s 577ms/step - loss: 0.1777 - accuracy: 0.9298 - precision: 0.9313 - recall: 0.9331\n",
      "Epoch 12/20\n",
      "962/962 [==============================] - 552s 574ms/step - loss: 0.1759 - accuracy: 0.9306 - precision: 0.9323 - recall: 0.9337\n",
      "Epoch 13/20\n",
      "962/962 [==============================] - 554s 576ms/step - loss: 0.1763 - accuracy: 0.9319 - precision: 0.9333 - recall: 0.9351\n",
      "Epoch 14/20\n",
      "962/962 [==============================] - 557s 579ms/step - loss: 0.1734 - accuracy: 0.9324 - precision: 0.9334 - recall: 0.9360\n",
      "Epoch 15/20\n",
      "962/962 [==============================] - 561s 583ms/step - loss: 0.1728 - accuracy: 0.9326 - precision: 0.9331 - recall: 0.9369\n",
      "Epoch 16/20\n",
      "962/962 [==============================] - 562s 584ms/step - loss: 0.1704 - accuracy: 0.9333 - precision: 0.9345 - recall: 0.9366\n",
      "Epoch 17/20\n",
      "962/962 [==============================] - 562s 584ms/step - loss: 0.1710 - accuracy: 0.9341 - precision: 0.9359 - recall: 0.9367\n",
      "Epoch 18/20\n",
      "962/962 [==============================] - 562s 584ms/step - loss: 0.1703 - accuracy: 0.9343 - precision: 0.9358 - recall: 0.9372\n",
      "Epoch 19/20\n",
      "962/962 [==============================] - 562s 585ms/step - loss: 0.1701 - accuracy: 0.9329 - precision: 0.9339 - recall: 0.9365\n",
      "Epoch 20/20\n",
      "962/962 [==============================] - 561s 583ms/step - loss: 0.1684 - accuracy: 0.9342 - precision: 0.9359 - recall: 0.9369\n"
     ]
    }
   ],
   "source": [
    "history = model.fit(X_train, y_train, epochs=20)"
   ]
  },
  {
   "cell_type": "code",
   "execution_count": 55,
   "id": "87061281-1956-4ebb-bd18-2be0926b4ace",
   "metadata": {},
   "outputs": [],
   "source": [
    "acc = history.history['accuracy']\n",
    "loss = history.history['loss']"
   ]
  },
  {
   "cell_type": "code",
   "execution_count": 57,
   "id": "ceb5e99a-50e2-4b5c-9657-cb4b3f6b2f80",
   "metadata": {},
   "outputs": [
    {
     "data": {
      "image/png": "[encoded data removed]",
      "text/plain": [
       "<Figure size 640x480 with 1 Axes>"
      ]
     },
     "metadata": {},
     "output_type": "display_data"
    }
   ],
   "source": [
    "# Create count of the number of epochs\n",
    "epoch_count = [i for i in range(1,21)]\n",
    "# Visualize loss history\n",
    "plt.plot(epoch_count, loss, 'b-')\n",
    "plt.legend(['Training Loss', 'Test Loss'])\n",
    "plt.xlabel('Epoch')\n",
    "plt.ylabel('Loss')\n",
    "plt.show();"
   ]
  },
  {
   "cell_type": "code",
   "execution_count": 58,
   "id": "f20125a1-2bcd-4375-a743-3bb77f8566b3",
   "metadata": {},
   "outputs": [
    {
     "name": "stdout",
     "output_type": "stream",
     "text": [
      "413/413 [==============================] - 230s 552ms/step\n"
     ]
    }
   ],
   "source": [
    "y_pred = model.predict(X_test)\n",
    "y_pred_label = y_pred >= 0.5"
   ]
  },
  {
   "cell_type": "code",
   "execution_count": 59,
   "id": "741aaa86-6aaf-4bc6-ab3c-76f4b0a1f06e",
   "metadata": {},
   "outputs": [
    {
     "data": {
      "text/plain": [
       "<sklearn.metrics._plot.confusion_matrix.ConfusionMatrixDisplay at 0x259510ea9a0>"
      ]
     },
     "execution_count": 59,
     "metadata": {},
     "output_type": "execute_result"
    },
    {
     "data": {
      "image/png": "[encoded data removed]",
      "text/plain": [
       "<Figure size 640x480 with 2 Axes>"
      ]
     },
     "metadata": {},
     "output_type": "display_data"
    }
   ],
   "source": [
    "from sklearn.metrics import confusion_matrix, ConfusionMatrixDisplay\n",
    "confusionMatrix = confusion_matrix(y_test, y_pred_label)\n",
    "disp = ConfusionMatrixDisplay(confusion_matrix=confusionMatrix,display_labels=categories)\n",
    "disp.plot()"
   ]
  },
  {
   "cell_type": "code",
   "execution_count": 60,
   "id": "daa478c7-a0af-4998-a488-d5024297d373",
   "metadata": {},
   "outputs": [
    {
     "name": "stdout",
     "output_type": "stream",
     "text": [
      "Macro Precsion on Test Set: 0.9507389081789768\n",
      "Macro Recall on Test Set: 0.9496623716591617\n",
      "Macro F1 Score on Test Set: 0.9500544364895773\n"
     ]
    }
   ],
   "source": [
    "from sklearn.metrics import precision_recall_fscore_support\n",
    "metrics  = precision_recall_fscore_support(y_test, y_pred_label, average='macro')\n",
    "print(\"Macro Precsion on Test Set:\",metrics[0])\n",
    "print(\"Macro Recall on Test Set:\",metrics[1])\n",
    "print(\"Macro F1 Score on Test Set:\",metrics[2])"
   ]
  }
 ],
 "metadata": {
  "kernelspec": {
   "display_name": "Python 3 (ipykernel)",
   "language": "python",
   "name": "python3"
  },
  "language_info": {
   "codemirror_mode": {
    "name": "ipython",
    "version": 3
   },
   "file_extension": ".py",
   "mimetype": "text/x-python",
   "name": "python",
   "nbconvert_exporter": "python",
   "pygments_lexer": "ipython3",
   "version": "3.9.6"
  }
 },
 "nbformat": 4,
 "nbformat_minor": 5
}
